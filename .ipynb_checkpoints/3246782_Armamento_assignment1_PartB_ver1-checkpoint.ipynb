{
 "cells": [
  {
   "cell_type": "markdown",
   "id": "3ecb9381",
   "metadata": {},
   "source": [
    "<h2 style='text-align: center;'> Data Science Technology and Systems </h2>\n",
    "<h3 style='text-align: center;'> Assignment 1: Predictive Modelling of Eating-Out Problem </h3>\n",
    "<h3 style='text-align: center;'> Part B - Predictive Modelling </h3>\n",
    "<h4 style='text-align: center;'> Pauline Armamento - u3246782 </h4>"
   ]
  },
  {
   "cell_type": "markdown",
   "id": "a39a0516",
   "metadata": {},
   "source": [
    "## Introduction\n",
    "\n",
    "This project aims to leverage a real-world dataset comprising over 10,000 Sydney restaurants from 2018 to predict restaurant ratings. The objective of this project is to conduct a comprehensive Exploratory Data Analysis (EDA), feature engineering, develop regression and classification models, and demonstrate practical deployment skills. "
   ]
  },
  {
   "cell_type": "markdown",
   "id": "54aa406b",
   "metadata": {},
   "source": [
    "### The following libraries were used to retrieve, explore, process and present data within the dataset."
   ]
  },
  {
   "cell_type": "code",
   "execution_count": 2,
   "id": "ef18d760",
   "metadata": {},
   "outputs": [
    {
     "data": {
      "text/plain": [
       "'C:\\\\Users\\\\pauar\\\\Desktop\\\\UC\\\\DSTS\\\\DSTS Assignment'"
      ]
     },
     "execution_count": 2,
     "metadata": {},
     "output_type": "execute_result"
    }
   ],
   "source": [
    "import os\n",
    "import pandas as pd\n",
    "import numpy as np\n",
    "import seaborn as sns\n",
    "import ast\n",
    "import geopandas as gpd\n",
    "from shapely.geometry import Point\n",
    "from sklearn.preprocessing import OneHotEncoder, LabelEncoder\n",
    "from sklearn.model_selection import train_test_split\n",
    "from sklearn.linear_model import LinearRegression\n",
    "from sklearn.metrics import mean_squared_error, r2_score\n",
    "from sklearn.linear_model import SGDRegressor\n",
    "from sklearn.preprocessing import StandardScaler\n",
    "\n",
    "import matplotlib.pyplot as plt\n",
    "\n",
    "%matplotlib inline\n",
    "\n",
    "os.getcwd()"
   ]
  },
  {
   "cell_type": "markdown",
   "id": "d5233c2e",
   "metadata": {},
   "source": [
    "### Feature Engineering"
   ]
  },
  {
   "cell_type": "code",
   "execution_count": 3,
   "id": "c93eb307",
   "metadata": {},
   "outputs": [
    {
     "name": "stdout",
     "output_type": "stream",
     "text": [
      "<class 'pandas.core.frame.DataFrame'>\n",
      "RangeIndex: 10500 entries, 0 to 10499\n",
      "Data columns (total 17 columns):\n",
      " #   Column         Non-Null Count  Dtype  \n",
      "---  ------         --------------  -----  \n",
      " 0   address        10500 non-null  object \n",
      " 1   cost           10154 non-null  float64\n",
      " 2   cuisine        10500 non-null  object \n",
      " 3   lat            10308 non-null  float64\n",
      " 4   link           10500 non-null  object \n",
      " 5   lng            10308 non-null  float64\n",
      " 6   phone          10500 non-null  object \n",
      " 7   rating_number  7184 non-null   float64\n",
      " 8   rating_text    7184 non-null   object \n",
      " 9   subzone        10500 non-null  object \n",
      " 10  title          10500 non-null  object \n",
      " 11  type           10452 non-null  object \n",
      " 12  votes          7184 non-null   float64\n",
      " 13  groupon        10500 non-null  bool   \n",
      " 14  color          10500 non-null  object \n",
      " 15  cost_2         10154 non-null  float64\n",
      " 16  cuisine_color  10500 non-null  object \n",
      "dtypes: bool(1), float64(6), object(10)\n",
      "memory usage: 1.3+ MB\n",
      "None\n",
      "cost              346\n",
      "lat               192\n",
      "lng               192\n",
      "rating_number    3316\n",
      "rating_text      3316\n",
      "type               48\n",
      "votes            3316\n",
      "cost_2            346\n",
      "dtype: int64\n"
     ]
    }
   ],
   "source": [
    "# Load the data\n",
    "df = pd.read_csv(\"data/zomato_df_final_data.csv\")\n",
    "\n",
    "# Display initial information about the DataFrame\n",
    "print(df.info())\n",
    "\n",
    "# 1. Handle Missing Values\n",
    "# Check for missing values\n",
    "missing_values = df.isnull().sum()\n",
    "print(missing_values[missing_values > 0])\n",
    "\n",
    "# Option 1: Drop rows with missing values\n",
    "df_cleaned = df.dropna()\n",
    "\n",
    "# Option 2: Impute missing values (example: fill with mean for numeric columns)\n",
    "# df['cost'] = df['cost'].fillna(df['cost'].mean())\n",
    "# df['rating_number'] = df['rating_number'].fillna(df['rating_number'].mean())\n",
    "\n",
    "# 2. Remove Duplicates\n",
    "df_cleaned = df_cleaned.drop_duplicates()\n",
    "\n",
    "# 3. Convert Data Types if necessary\n",
    "# For example, if 'cost' should be numeric and it's an object\n",
    "df_cleaned['cost'] = pd.to_numeric(df_cleaned['cost'], errors='coerce')\n"
   ]
  },
  {
   "cell_type": "code",
   "execution_count": 4,
   "id": "d97065a2",
   "metadata": {},
   "outputs": [
    {
     "name": "stdout",
     "output_type": "stream",
     "text": [
      "                                             address   cost        lat  \\\n",
      "0                      371A Pitt Street, CBD, Sydney   50.0 -33.876059   \n",
      "1      Shop 7A, 2 Huntley Street, Alexandria, Sydney   80.0 -33.910999   \n",
      "2   Level G, The Darling at the Star, 80 Pyrmont ...  120.0 -33.867971   \n",
      "3   Sydney Opera House, Bennelong Point, Circular...  270.0 -33.856784   \n",
      "4              20 Campbell Street, Chinatown, Sydney   55.0 -33.879035   \n",
      "\n",
      "                                                link         lng  \\\n",
      "0    https://www.zomato.com/sydney/sydney-madang-cbd  151.207605   \n",
      "1  https://www.zomato.com/sydney/the-grounds-of-a...  151.193793   \n",
      "2        https://www.zomato.com/sydney/sokyo-pyrmont  151.195210   \n",
      "3  https://www.zomato.com/sydney/bennelong-restau...  151.215297   \n",
      "4  https://www.zomato.com/sydney/chat-thai-chinatown  151.206409   \n",
      "\n",
      "          phone  rating_number  rating_text   votes    color  ...  \\\n",
      "0  02 8318 0406            4.0            4  1311.0  #e15307  ...   \n",
      "1  02 9699 2225            4.6            1  3236.0  #9c3203  ...   \n",
      "2  1800 700 700            4.9            1  1227.0  #7f2704  ...   \n",
      "3  02 9240 8000            4.9            1   278.0  #7f2704  ...   \n",
      "4  02 8317 4811            4.5            1  2150.0  #a83703  ...   \n",
      "\n",
      "   type_['Food Court'] type_['Food Truck']  type_['Pub', 'Bar']  \\\n",
      "0                    0                   0                    0   \n",
      "1                    0                   0                    0   \n",
      "2                    0                   0                    0   \n",
      "3                    0                   0                    0   \n",
      "4                    0                   0                    0   \n",
      "\n",
      "   type_['Pub', 'Casual Dining']  type_['Pub', 'Club']  \\\n",
      "0                              0                     0   \n",
      "1                              0                     0   \n",
      "2                              0                     0   \n",
      "3                              0                     0   \n",
      "4                              0                     0   \n",
      "\n",
      "   type_['Pub', 'Wine Bar']  type_['Pub']  type_['Wine Bar', 'Casual Dining']  \\\n",
      "0                         0             0                                   0   \n",
      "1                         0             0                                   0   \n",
      "2                         0             0                                   0   \n",
      "3                         0             0                                   0   \n",
      "4                         0             0                                   0   \n",
      "\n",
      "   type_['Wine Bar']  groupon_True  \n",
      "0                  0             0  \n",
      "1                  0             0  \n",
      "2                  0             0  \n",
      "3                  0             0  \n",
      "4                  0             0  \n",
      "\n",
      "[5 rows x 8837 columns]\n"
     ]
    }
   ],
   "source": [
    "\n",
    "\n",
    "# Select features for encoding\n",
    "categorical_features = ['cuisine', 'subzone', 'title', 'type', 'groupon']\n",
    "\n",
    "# 1. One-Hot Encoding for Nominal Features\n",
    "df_encoded = pd.get_dummies(df_cleaned, columns=categorical_features, drop_first=True)\n",
    "\n",
    "# 2. Label Encoding for Ordinal Features (if any)\n",
    "# Assuming 'rating_text' is ordinal\n",
    "label_encoder = LabelEncoder()\n",
    "df_encoded['rating_text'] = label_encoder.fit_transform(df_encoded['rating_text'])\n",
    "\n",
    "# Display the cleaned and encoded DataFrame\n",
    "print(df_encoded.head())\n"
   ]
  },
  {
   "cell_type": "markdown",
   "id": "63bbaab4",
   "metadata": {},
   "source": [
    "### Regression"
   ]
  },
  {
   "cell_type": "markdown",
   "id": "00677546",
   "metadata": {},
   "source": [
    "### Model 1"
   ]
  },
  {
   "cell_type": "code",
   "execution_count": 22,
   "id": "c08ce406",
   "metadata": {},
   "outputs": [],
   "source": [
    "# Define features (X) and target variable (y)\n",
    "X = df_encoded.drop(columns=['rating_number'])  # All columns except the target\n",
    "y = df_encoded['rating_number']                  # The target variable"
   ]
  },
  {
   "cell_type": "code",
   "execution_count": 23,
   "id": "460a24b8",
   "metadata": {},
   "outputs": [
    {
     "name": "stdout",
     "output_type": "stream",
     "text": [
      "address                                object\n",
      "cost                                  float64\n",
      "lat                                   float64\n",
      "link                                   object\n",
      "lng                                   float64\n",
      "                                       ...   \n",
      "type_['Pub', 'Wine Bar']                uint8\n",
      "type_['Pub']                            uint8\n",
      "type_['Wine Bar', 'Casual Dining']      uint8\n",
      "type_['Wine Bar']                       uint8\n",
      "groupon_True                            uint8\n",
      "Length: 8836, dtype: object\n"
     ]
    }
   ],
   "source": [
    "# Check data types of columns in the features DataFrame\n",
    "print(X.dtypes)"
   ]
  },
  {
   "cell_type": "code",
   "execution_count": 24,
   "id": "fc296deb",
   "metadata": {},
   "outputs": [],
   "source": [
    "# Drop irrelevant columns that can't be used for prediction\n",
    "X = X.drop(columns=['address', 'link', 'phone', 'color', 'cuisine_color']) \n"
   ]
  },
  {
   "cell_type": "code",
   "execution_count": 25,
   "id": "86ca5888",
   "metadata": {},
   "outputs": [
    {
     "name": "stdout",
     "output_type": "stream",
     "text": [
      "cost                                  float64\n",
      "lat                                   float64\n",
      "lng                                   float64\n",
      "rating_text                             int32\n",
      "votes                                 float64\n",
      "                                       ...   \n",
      "type_['Pub', 'Wine Bar']                uint8\n",
      "type_['Pub']                            uint8\n",
      "type_['Wine Bar', 'Casual Dining']      uint8\n",
      "type_['Wine Bar']                       uint8\n",
      "groupon_True                            uint8\n",
      "Length: 8831, dtype: object\n"
     ]
    }
   ],
   "source": [
    "print(X.dtypes)"
   ]
  },
  {
   "cell_type": "code",
   "execution_count": 26,
   "id": "8c91ac8b",
   "metadata": {},
   "outputs": [
    {
     "name": "stdout",
     "output_type": "stream",
     "text": [
      "Mean Squared Error: 0.11\n",
      "R-squared: 0.47\n",
      "                                    Coefficient\n",
      "cost                                   0.000850\n",
      "lat                                    0.001169\n",
      "lng                                    0.000434\n",
      "rating_text                            0.158797\n",
      "votes                                  0.000765\n",
      "...                                         ...\n",
      "type_['Pub', 'Wine Bar']               0.131269\n",
      "type_['Pub']                          -0.078813\n",
      "type_['Wine Bar', 'Casual Dining']     0.081050\n",
      "type_['Wine Bar']                      0.142112\n",
      "groupon_True                          -0.063953\n",
      "\n",
      "[8831 rows x 1 columns]\n"
     ]
    }
   ],
   "source": [
    "# Split the data into training (80%) and testing (20%) sets again\n",
    "X_train, X_test, y_train, y_test = train_test_split(X, y, test_size=0.2, random_state=0)\n",
    "\n",
    "# Build the Linear Regression Model\n",
    "model_regression_1 = LinearRegression()\n",
    "model_regression_1.fit(X_train, y_train)\n",
    "\n",
    "# Make predictions on the test set\n",
    "y_pred = model_regression_1.predict(X_test)\n",
    "\n",
    "# Evaluate the model\n",
    "mse = mean_squared_error(y_test, y_pred)\n",
    "r2 = r2_score(y_test, y_pred)\n",
    "\n",
    "print(f\"Mean Squared Error: {mse:.2f}\")\n",
    "print(f\"R-squared: {r2:.2f}\")\n",
    "\n",
    "# Display the coefficients\n",
    "coefficients = pd.DataFrame(model_regression_1.coef_, X.columns, columns=['Coefficient'])\n",
    "print(coefficients)\n"
   ]
  },
  {
   "cell_type": "markdown",
   "id": "8b7a4e27",
   "metadata": {},
   "source": [
    "### Model 2\n"
   ]
  },
  {
   "cell_type": "code",
   "execution_count": 30,
   "id": "7f1a43fd",
   "metadata": {},
   "outputs": [
    {
     "name": "stdout",
     "output_type": "stream",
     "text": [
      "Mean Squared Error: 5.099746192133137e+18\n",
      "R-squared: -2.440971479996034e+19\n"
     ]
    }
   ],
   "source": [
    "from sklearn.linear_model import SGDRegressor\n",
    "from sklearn.preprocessing import StandardScaler\n",
    "\n",
    "# Standardize the features\n",
    "scaler = StandardScaler()\n",
    "X_train_scaled = scaler.fit_transform(X_train)\n",
    "X_test_scaled = scaler.transform(X_test)\n",
    "\n",
    "model_regression_2 = SGDRegressor(loss=\"squared_error\", max_iter=1000, random_state=0)\n",
    "model_regression_2.fit(X_train_scaled, y_train)\n",
    "\n",
    "y_pred_model2 = model_regression_2.predict(X_test_scaled)\n",
    "\n",
    "mse_model2 = mean_squared_error(y_test, y_pred_model2)\n",
    "r2_model2 = r2_score(y_test, y_pred_model2)\n",
    "\n",
    "print(f\"Mean Squared Error: {mse_model2}\")\n",
    "print(f\"R-squared: {r2_model2}\")"
   ]
  },
  {
   "cell_type": "markdown",
   "id": "c41ea5a5",
   "metadata": {},
   "source": [
    "### Classification"
   ]
  },
  {
   "cell_type": "code",
   "execution_count": null,
   "id": "be2f6575",
   "metadata": {},
   "outputs": [],
   "source": []
  }
 ],
 "metadata": {
  "kernelspec": {
   "display_name": "Python 3 (ipykernel)",
   "language": "python",
   "name": "python3"
  },
  "language_info": {
   "codemirror_mode": {
    "name": "ipython",
    "version": 3
   },
   "file_extension": ".py",
   "mimetype": "text/x-python",
   "name": "python",
   "nbconvert_exporter": "python",
   "pygments_lexer": "ipython3",
   "version": "3.9.12"
  }
 },
 "nbformat": 4,
 "nbformat_minor": 5
}
