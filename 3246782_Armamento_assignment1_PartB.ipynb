{
 "cells": [
  {
   "cell_type": "markdown",
   "id": "3ecb9381",
   "metadata": {},
   "source": [
    "<h2 style='text-align: center;'> Data Science Technology and Systems </h2>\n",
    "<h3 style='text-align: center;'> Assignment 1: Predictive Modelling of Eating-Out Problem </h3>\n",
    "<h3 style='text-align: center;'> Part B - Predictive Modelling </h3>\n",
    "<h4 style='text-align: center;'> Pauline Armamento - u3246782 </h4>"
   ]
  },
  {
   "cell_type": "markdown",
   "id": "a39a0516",
   "metadata": {},
   "source": [
    "## Introduction\n",
    "\n",
    "This project aims to leverage a real-world dataset comprising over 10,000 Sydney restaurants from 2018 to predict restaurant ratings. The objective of this project is to conduct a comprehensive Exploratory Data Analysis (EDA), feature engineering, develop regression and classification models, and demonstrate practical deployment skills. "
   ]
  },
  {
   "cell_type": "markdown",
   "id": "54aa406b",
   "metadata": {},
   "source": [
    "### The following libraries were used to retrieve, explore, process and present data within the dataset."
   ]
  },
  {
   "cell_type": "code",
   "execution_count": 1,
   "id": "ef18d760",
   "metadata": {},
   "outputs": [
    {
     "data": {
      "text/plain": [
       "'C:\\\\Users\\\\pauar\\\\Desktop\\\\UC\\\\DSTS\\\\DSTS Assignment'"
      ]
     },
     "execution_count": 1,
     "metadata": {},
     "output_type": "execute_result"
    }
   ],
   "source": [
    "import os\n",
    "import pandas as pd\n",
    "import numpy as np\n",
    "import seaborn as sns\n",
    "import ast\n",
    "import geopandas as gpd\n",
    "from shapely.geometry import Point\n",
    "from sklearn.preprocessing import OneHotEncoder, LabelEncoder\n",
    "from sklearn.model_selection import train_test_split\n",
    "from sklearn.linear_model import LinearRegression\n",
    "from sklearn.metrics import mean_squared_error, r2_score\n",
    "from sklearn.linear_model import SGDRegressor\n",
    "from sklearn.preprocessing import StandardScaler\n",
    "from sklearn.metrics import confusion_matrix\n",
    "from sklearn.tree import DecisionTreeClassifier\n",
    "from sklearn.ensemble import RandomForestClassifier\n",
    "from sklearn.naive_bayes import GaussianNB\n",
    "from sklearn.svm import SVC  \n",
    "\n",
    "import matplotlib.pyplot as plt\n",
    "\n",
    "%matplotlib inline\n",
    "\n",
    "os.getcwd()"
   ]
  },
  {
   "cell_type": "markdown",
   "id": "46122a95",
   "metadata": {},
   "source": [
    "## Exploring Data\n",
    "\n",
    "### Data Description\n",
    "\n",
    "The dataframe is comprised of 10,500 data entries with 17 columns ['address', 'cost', 'cuisine', 'lat', 'link', 'lng', 'phone', 'rating_number', 'rating_text', 'subzone', 'title', 'type', 'votes', 'groupon', 'color', 'cost_2', 'cuisine_color']"
   ]
  },
  {
   "cell_type": "markdown",
   "id": "3d48573a",
   "metadata": {},
   "source": [
    "### Read Zomato Restaurant Dataset"
   ]
  },
  {
   "cell_type": "code",
   "execution_count": 2,
   "id": "cac4af70",
   "metadata": {},
   "outputs": [
    {
     "name": "stdout",
     "output_type": "stream",
     "text": [
      "DataFrame: zomato_df_final_data\n",
      "Number of rows: 10500\n",
      "Column names: ['address', 'cost', 'cuisine', 'lat', 'link', 'lng', 'phone', 'rating_number', 'rating_text', 'subzone', 'title', 'type', 'votes', 'groupon', 'color', 'cost_2', 'cuisine_color']\n"
     ]
    }
   ],
   "source": [
    "# Define the directory path\n",
    "\n",
    "df = pd.read_csv(\"data/zomato_df_final_data.csv\")\n",
    "\n",
    "print(\"DataFrame: zomato_df_final_data\")\n",
    "print(\"Number of rows:\", df.shape[0])\n",
    "print(\"Column names:\", df.columns.tolist())\n"
   ]
  },
  {
   "cell_type": "markdown",
   "id": "3283925b",
   "metadata": {},
   "source": [
    "To understand the contents of our dataframe, we want to look at what data types are present in each columnn. This information will be essential in guiding us for subsequent processing and task analysis within this assignment.\n",
    "\n",
    "Here we observed a combination of numerical and categorical features that will be further processed for quantitative analysis and modeling. "
   ]
  },
  {
   "cell_type": "code",
   "execution_count": 4,
   "id": "11d9b276",
   "metadata": {},
   "outputs": [
    {
     "data": {
      "text/plain": [
       "address           object\n",
       "cost             float64\n",
       "cuisine           object\n",
       "lat              float64\n",
       "link              object\n",
       "lng              float64\n",
       "phone             object\n",
       "rating_number    float64\n",
       "rating_text       object\n",
       "subzone           object\n",
       "title             object\n",
       "type              object\n",
       "votes            float64\n",
       "groupon             bool\n",
       "color             object\n",
       "cost_2           float64\n",
       "cuisine_color     object\n",
       "dtype: object"
      ]
     },
     "execution_count": 4,
     "metadata": {},
     "output_type": "execute_result"
    }
   ],
   "source": [
    "# Check data types\n",
    "df.dtypes"
   ]
  },
  {
   "cell_type": "markdown",
   "id": "5db2eb00",
   "metadata": {},
   "source": [
    "#### Verify Column Contents\n",
    "\n",
    "In addition to examining the data types, we wanted to see the degree of categories for specified columns ['subzone', 'cuisine', 'title', 'type']. This gives us an idea about the distributions of these categories that can provide insights to the restaurant landscape in Sydney."
   ]
  },
  {
   "cell_type": "code",
   "execution_count": 5,
   "id": "5b396f19",
   "metadata": {},
   "outputs": [
    {
     "name": "stdout",
     "output_type": "stream",
     "text": [
      "Contents of column 'subzone':\n",
      "CBD                                         476\n",
      "Surry Hills                                 260\n",
      "Parramatta                                  225\n",
      "Darlinghurst                                188\n",
      "Chinatown                                   174\n",
      "                                           ... \n",
      "The Sydney Boulevard Hotel, Darlinghurst      1\n",
      "Pullman Quay Grand Sydney Harbour, CBD        1\n",
      "Chullora                                      1\n",
      "Marriott Sydney Harbour, Circular Quay        1\n",
      "Holiday Inn Old Sydney, The Rocks             1\n",
      "Name: subzone, Length: 572, dtype: int64\n",
      "\n",
      "Contents of column 'cuisine':\n",
      "['Cafe']                                   1745\n",
      "['Thai']                                    542\n",
      "['Chinese']                                 450\n",
      "['Modern Australian']                       346\n",
      "['Indian']                                  286\n",
      "                                           ... \n",
      "['Cafe', 'Spanish', 'Italian', 'Tapas']       1\n",
      "['Desserts', 'Steak', 'Tapas']                1\n",
      "['Pub Food', 'Burger', 'Pizza']               1\n",
      "['Cambodian', 'Vietnamese']                   1\n",
      "['Kebab', 'Burger', 'Fish and Chips']         1\n",
      "Name: cuisine, Length: 1759, dtype: int64\n",
      "\n",
      "Contents of column 'title':\n",
      "Royal Hotel                     5\n",
      "King of Kebabs                  4\n",
      "Charcoal Chicken                3\n",
      "Lucie's Cafe                    2\n",
      "The Loft                        2\n",
      "                               ..\n",
      "Mootch & Me                     1\n",
      "The House of Herbs and Roses    1\n",
      "Po Po Hurstville                1\n",
      "Hurstville Chinese              1\n",
      "O'Siam                          1\n",
      "Name: title, Length: 10407, dtype: int64\n",
      "\n",
      "Contents of column 'type':\n",
      "['Casual Dining']                    4854\n",
      "['Café']                             2767\n",
      "['Fast Food']                         557\n",
      "['Food Court']                        480\n",
      "['Pub']                               284\n",
      "                                     ... \n",
      "['Club', 'Casual Dining']               1\n",
      "['Dessert Parlour', 'Fast Food']        1\n",
      "['Dessert Parlour', 'Food Court']       1\n",
      "['Club', 'Pub']                         1\n",
      "['Food Court', 'Beverage Shop']         1\n",
      "Name: type, Length: 66, dtype: int64\n",
      "\n"
     ]
    }
   ],
   "source": [
    "# Define columns to check contents\n",
    "columns_to_check = ['subzone', 'cuisine', 'title', 'type']\n",
    "\n",
    "# Print Column Contents\n",
    "for column in columns_to_check:\n",
    "    print(f\"Contents of column '{column}':\")\n",
    "    print(df[column].value_counts())\n",
    "    print()\n",
    "\n"
   ]
  },
  {
   "cell_type": "markdown",
   "id": "d5233c2e",
   "metadata": {},
   "source": [
    "## I. Feature Engineering\n",
    "\n",
    "Feature engineering as discussed in the DSTS lectures is the process of transforming variables or features from the raw data and making them suitable for the data modelling process. In this part of the assignment we implement feature engineering approaches for the following tasks:"
   ]
  },
  {
   "cell_type": "markdown",
   "id": "0a58fcaa",
   "metadata": {},
   "source": [
    "### 1. Perform data cleaning to remove/impute any useless records in the predictive task (such as NA, NaN, etc.)\n",
    "\n",
    "As we have seen in Assignment Part A, there were missing values in the dataframe where we set aside to resolve in this Part B. We initially show the items containing missing values in the dataframe. Given some data entries where we cannot impute missing values, we removed these data within columns (lat, lng, type, votes, cost_2) and impute missing values where we can utilise mean for numeric columns such as cost an rating number. "
   ]
  },
  {
   "cell_type": "code",
   "execution_count": 3,
   "id": "40725f64",
   "metadata": {},
   "outputs": [
    {
     "name": "stdout",
     "output_type": "stream",
     "text": [
      "cost              346\n",
      "lat               192\n",
      "lng               192\n",
      "rating_number    3316\n",
      "rating_text      3316\n",
      "type               48\n",
      "votes            3316\n",
      "cost_2            346\n",
      "dtype: int64\n"
     ]
    }
   ],
   "source": [
    "# Check for missing values\n",
    "missing_values = df.isnull().sum()\n",
    "print(missing_values[missing_values > 0])"
   ]
  },
  {
   "cell_type": "code",
   "execution_count": 4,
   "id": "bb34bd05",
   "metadata": {},
   "outputs": [],
   "source": [
    "# Impute missing values to fill with mean for cost and rating_number\n",
    "\n",
    "df['cost'] = df['cost'].fillna(df['cost'].mean())\n",
    "df['rating_number'] = df['rating_number'].fillna(df['rating_number'].mean())"
   ]
  },
  {
   "cell_type": "code",
   "execution_count": 5,
   "id": "7d5e69a2",
   "metadata": {},
   "outputs": [],
   "source": [
    "# Drop rows with missing values\n",
    "\n",
    "df_cleaned = df.dropna()"
   ]
  },
  {
   "cell_type": "code",
   "execution_count": 6,
   "id": "91ef670b",
   "metadata": {},
   "outputs": [
    {
     "name": "stdout",
     "output_type": "stream",
     "text": [
      "Series([], dtype: int64)\n"
     ]
    }
   ],
   "source": [
    "# Check for missing values in df_cleaned\n",
    "\n",
    "missing_values_df_cleaned = df_cleaned.isnull().sum()\n",
    "print(missing_values_df_cleaned[missing_values_df_cleaned > 0])"
   ]
  },
  {
   "cell_type": "code",
   "execution_count": 7,
   "id": "a714e723",
   "metadata": {},
   "outputs": [],
   "source": [
    "# Remove Duplicates\n",
    "# As precautionary we also removed potential duplicates in the dataframe\n",
    "\n",
    "df_cleaned = df_cleaned.drop_duplicates()"
   ]
  },
  {
   "cell_type": "code",
   "execution_count": 8,
   "id": "ea12f81e",
   "metadata": {},
   "outputs": [],
   "source": [
    "# Convert data types to numeric\n",
    "\n",
    "df_cleaned['cost'] = pd.to_numeric(df_cleaned['cost'], errors='coerce')\n",
    "df_cleaned['rating_number'] = pd.to_numeric(df_cleaned['rating_number'], errors='coerce')\n",
    "df_cleaned['votes'] = pd.to_numeric(df_cleaned['votes'], errors='coerce')"
   ]
  },
  {
   "cell_type": "code",
   "execution_count": 14,
   "id": "0f6e6fb4",
   "metadata": {},
   "outputs": [
    {
     "name": "stdout",
     "output_type": "stream",
     "text": [
      "<class 'pandas.core.frame.DataFrame'>\n",
      "Int64Index: 6948 entries, 0 to 10212\n",
      "Data columns (total 17 columns):\n",
      " #   Column         Non-Null Count  Dtype  \n",
      "---  ------         --------------  -----  \n",
      " 0   address        6948 non-null   object \n",
      " 1   cost           6948 non-null   float64\n",
      " 2   cuisine        6948 non-null   object \n",
      " 3   lat            6948 non-null   float64\n",
      " 4   link           6948 non-null   object \n",
      " 5   lng            6948 non-null   float64\n",
      " 6   phone          6948 non-null   object \n",
      " 7   rating_number  6948 non-null   float64\n",
      " 8   rating_text    6948 non-null   object \n",
      " 9   subzone        6948 non-null   object \n",
      " 10  title          6948 non-null   object \n",
      " 11  type           6948 non-null   object \n",
      " 12  votes          6948 non-null   float64\n",
      " 13  groupon        6948 non-null   bool   \n",
      " 14  color          6948 non-null   object \n",
      " 15  cost_2         6948 non-null   float64\n",
      " 16  cuisine_color  6948 non-null   object \n",
      "dtypes: bool(1), float64(6), object(10)\n",
      "memory usage: 929.6+ KB\n"
     ]
    }
   ],
   "source": [
    "# Print df_cleaned info\n",
    "\n",
    "df_cleaned.info()"
   ]
  },
  {
   "cell_type": "markdown",
   "id": "cb028828",
   "metadata": {},
   "source": [
    "### 2. Use proper label/feature encoding for each feature/column you consider, preparing the data for the modelling step.\n",
    "\n",
    "As we have have seen in the previous cell, we have a list of numerical and categorical variables. We then processed the categorical variables such as 'cuisine', 'subzone', 'title', 'type', and 'groupon' for Feature Encoding to prepare the data for modelling. We employed One-Hot Encoding for Nominal Features that transforms categorical variables into binary matrix and Lable Encoding for Ordinal Feature 'rating_text' that converts each nominal feature into a numerical value."
   ]
  },
  {
   "cell_type": "code",
   "execution_count": 9,
   "id": "908c5218",
   "metadata": {},
   "outputs": [
    {
     "name": "stdout",
     "output_type": "stream",
     "text": [
      "                                          address  cost     cuisine  \\\n",
      "0                   371A Pitt Street, CBD, Sydney  50.0     Hot Pot   \n",
      "0                   371A Pitt Street, CBD, Sydney  50.0  Korean BBQ   \n",
      "0                   371A Pitt Street, CBD, Sydney  50.0         BBQ   \n",
      "0                   371A Pitt Street, CBD, Sydney  50.0      Korean   \n",
      "1   Shop 7A, 2 Huntley Street, Alexandria, Sydney  80.0        Cafe   \n",
      "\n",
      "         lat                                               link         lng  \\\n",
      "0 -33.876059    https://www.zomato.com/sydney/sydney-madang-cbd  151.207605   \n",
      "0 -33.876059    https://www.zomato.com/sydney/sydney-madang-cbd  151.207605   \n",
      "0 -33.876059    https://www.zomato.com/sydney/sydney-madang-cbd  151.207605   \n",
      "0 -33.876059    https://www.zomato.com/sydney/sydney-madang-cbd  151.207605   \n",
      "1 -33.910999  https://www.zomato.com/sydney/the-grounds-of-a...  151.193793   \n",
      "\n",
      "          phone  rating_number rating_text  \\\n",
      "0  02 8318 0406            4.0   Very Good   \n",
      "0  02 8318 0406            4.0   Very Good   \n",
      "0  02 8318 0406            4.0   Very Good   \n",
      "0  02 8318 0406            4.0   Very Good   \n",
      "1  02 9699 2225            4.6   Excellent   \n",
      "\n",
      "                                 subzone                           title  \\\n",
      "0                                    CBD                   Sydney Madang   \n",
      "0                                    CBD                   Sydney Madang   \n",
      "0                                    CBD                   Sydney Madang   \n",
      "0                                    CBD                   Sydney Madang   \n",
      "1  The Grounds of Alexandria, Alexandria  The Grounds of Alexandria Cafe   \n",
      "\n",
      "                type   votes  groupon    color    cost_2 cuisine_color  \n",
      "0  ['Casual Dining']  1311.0    False  #e15307  5.243902       #6f706b  \n",
      "0  ['Casual Dining']  1311.0    False  #e15307  5.243902       #6f706b  \n",
      "0  ['Casual Dining']  1311.0    False  #e15307  5.243902       #6f706b  \n",
      "0  ['Casual Dining']  1311.0    False  #e15307  5.243902       #6f706b  \n",
      "1           ['Café']  3236.0    False  #9c3203  7.560976       #6f706b  \n"
     ]
    }
   ],
   "source": [
    "# We used explode to split the cuisine to their own individual rows\n",
    "\n",
    "# Convert the 'cuisine' column to string\n",
    "df_cleaned['cuisine'] = df_cleaned['cuisine'].astype(str)\n",
    "\n",
    "# split cuisine column into lists\n",
    "df_cleaned['cuisine'] = df_cleaned['cuisine'].str.replace(r\"[\\[\\]']\", \"\", regex=True).str.split(\", \")\n",
    "\n",
    "# Explode the lists into separate rows\n",
    "df_cleaned_exploded = df_cleaned.explode('cuisine')\n",
    "\n",
    "# Print df_cleaned_exploded\n",
    "print(df_cleaned_exploded.head())\n"
   ]
  },
  {
   "cell_type": "code",
   "execution_count": 10,
   "id": "a5db118a",
   "metadata": {},
   "outputs": [],
   "source": [
    "# Select features for encoding\n",
    "\n",
    "categorical_features = ['cuisine', 'subzone', 'title', 'type', 'groupon']"
   ]
  },
  {
   "cell_type": "code",
   "execution_count": 11,
   "id": "61262c4e",
   "metadata": {},
   "outputs": [],
   "source": [
    "# One-Hot Encoding for Nominal Features\n",
    "\n",
    "df_encoded = pd.get_dummies(df_cleaned_exploded, columns=categorical_features, drop_first=True)"
   ]
  },
  {
   "cell_type": "code",
   "execution_count": 12,
   "id": "e1c2447e",
   "metadata": {},
   "outputs": [],
   "source": [
    "# Label Encoding for Ordinal Features \n",
    "\n",
    "label_encoder = LabelEncoder()\n",
    "df_encoded['rating_text'] = label_encoder.fit_transform(df_encoded['rating_text'])"
   ]
  },
  {
   "cell_type": "code",
   "execution_count": 27,
   "id": "d97065a2",
   "metadata": {},
   "outputs": [
    {
     "name": "stdout",
     "output_type": "stream",
     "text": [
      "                                          address  cost        lat  \\\n",
      "0                   371A Pitt Street, CBD, Sydney  50.0 -33.876059   \n",
      "0                   371A Pitt Street, CBD, Sydney  50.0 -33.876059   \n",
      "0                   371A Pitt Street, CBD, Sydney  50.0 -33.876059   \n",
      "0                   371A Pitt Street, CBD, Sydney  50.0 -33.876059   \n",
      "1   Shop 7A, 2 Huntley Street, Alexandria, Sydney  80.0 -33.910999   \n",
      "\n",
      "                                                link         lng  \\\n",
      "0    https://www.zomato.com/sydney/sydney-madang-cbd  151.207605   \n",
      "0    https://www.zomato.com/sydney/sydney-madang-cbd  151.207605   \n",
      "0    https://www.zomato.com/sydney/sydney-madang-cbd  151.207605   \n",
      "0    https://www.zomato.com/sydney/sydney-madang-cbd  151.207605   \n",
      "1  https://www.zomato.com/sydney/the-grounds-of-a...  151.193793   \n",
      "\n",
      "          phone  rating_number  rating_text   votes    color  ...  \\\n",
      "0  02 8318 0406            4.0            4  1311.0  #e15307  ...   \n",
      "0  02 8318 0406            4.0            4  1311.0  #e15307  ...   \n",
      "0  02 8318 0406            4.0            4  1311.0  #e15307  ...   \n",
      "0  02 8318 0406            4.0            4  1311.0  #e15307  ...   \n",
      "1  02 9699 2225            4.6            1  3236.0  #9c3203  ...   \n",
      "\n",
      "   type_['Food Court'] type_['Food Truck']  type_['Pub', 'Bar']  \\\n",
      "0                    0                   0                    0   \n",
      "0                    0                   0                    0   \n",
      "0                    0                   0                    0   \n",
      "0                    0                   0                    0   \n",
      "1                    0                   0                    0   \n",
      "\n",
      "   type_['Pub', 'Casual Dining']  type_['Pub', 'Club']  \\\n",
      "0                              0                     0   \n",
      "0                              0                     0   \n",
      "0                              0                     0   \n",
      "0                              0                     0   \n",
      "1                              0                     0   \n",
      "\n",
      "   type_['Pub', 'Wine Bar']  type_['Pub']  type_['Wine Bar', 'Casual Dining']  \\\n",
      "0                         0             0                                   0   \n",
      "0                         0             0                                   0   \n",
      "0                         0             0                                   0   \n",
      "0                         0             0                                   0   \n",
      "1                         0             0                                   0   \n",
      "\n",
      "   type_['Wine Bar']  groupon_True  \n",
      "0                  0             0  \n",
      "0                  0             0  \n",
      "0                  0             0  \n",
      "0                  0             0  \n",
      "1                  0             0  \n",
      "\n",
      "[5 rows x 7623 columns]\n"
     ]
    }
   ],
   "source": [
    "# Display the cleaned and encoded Dataframe\n",
    "print(df_encoded.head())\n"
   ]
  },
  {
   "cell_type": "markdown",
   "id": "63bbaab4",
   "metadata": {},
   "source": [
    "## II. Regression"
   ]
  },
  {
   "cell_type": "markdown",
   "id": "00677546",
   "metadata": {},
   "source": [
    "### Model 1\n",
    "\n",
    "We built the linear regression model (model_regression_1) to predict the restaurant rating\n",
    "(numeric rating) from other features (columns) in the dataset. We used klearn.model_selection.train_test_split to split the data train (80%) and test (20%) sets."
   ]
  },
  {
   "cell_type": "code",
   "execution_count": 65,
   "id": "c08ce406",
   "metadata": {},
   "outputs": [],
   "source": [
    "# Define X features and y target variable\n",
    "X = df_encoded.drop(columns=['rating_number'])  # All columns except rating_number\n",
    "y = df_encoded['rating_number']                  # Only rating_number"
   ]
  },
  {
   "cell_type": "code",
   "execution_count": 29,
   "id": "460a24b8",
   "metadata": {},
   "outputs": [
    {
     "name": "stdout",
     "output_type": "stream",
     "text": [
      "address                                object\n",
      "cost                                  float64\n",
      "lat                                   float64\n",
      "link                                   object\n",
      "lng                                   float64\n",
      "                                       ...   \n",
      "type_['Pub', 'Wine Bar']                uint8\n",
      "type_['Pub']                            uint8\n",
      "type_['Wine Bar', 'Casual Dining']      uint8\n",
      "type_['Wine Bar']                       uint8\n",
      "groupon_True                            uint8\n",
      "Length: 7622, dtype: object\n"
     ]
    }
   ],
   "source": [
    "# Check data types of columns\n",
    "print(X.dtypes)"
   ]
  },
  {
   "cell_type": "code",
   "execution_count": 66,
   "id": "fc296deb",
   "metadata": {},
   "outputs": [],
   "source": [
    "# Drop irrelevant columns \n",
    "X = X.drop(columns=['address', 'link', 'phone', 'color', 'cuisine_color']) \n"
   ]
  },
  {
   "cell_type": "code",
   "execution_count": 31,
   "id": "86ca5888",
   "metadata": {},
   "outputs": [
    {
     "name": "stdout",
     "output_type": "stream",
     "text": [
      "cost                                  float64\n",
      "lat                                   float64\n",
      "lng                                   float64\n",
      "rating_text                             int32\n",
      "votes                                 float64\n",
      "                                       ...   \n",
      "type_['Pub', 'Wine Bar']                uint8\n",
      "type_['Pub']                            uint8\n",
      "type_['Wine Bar', 'Casual Dining']      uint8\n",
      "type_['Wine Bar']                       uint8\n",
      "groupon_True                            uint8\n",
      "Length: 7617, dtype: object\n"
     ]
    }
   ],
   "source": [
    "print(X.dtypes)"
   ]
  },
  {
   "cell_type": "markdown",
   "id": "37ee8600",
   "metadata": {},
   "source": [
    "The Mean Squared Error (MSE) of 0.04 suggests that the model exhibits satisfactory performance, as it produces predictions that closely align with the actual values. Moreover, the R-squared value of 0.79 indicates that the model successfully explains 79% of the variance in the target variable, suggesting a strong correlation between the features and the predicted outcomes."
   ]
  },
  {
   "cell_type": "code",
   "execution_count": 32,
   "id": "8c91ac8b",
   "metadata": {},
   "outputs": [
    {
     "name": "stdout",
     "output_type": "stream",
     "text": [
      "Mean Squared Error: 0.04\n",
      "R-squared: 0.79\n",
      "                                    Coefficient\n",
      "cost                                   0.000564\n",
      "lat                                    0.001354\n",
      "lng                                    0.000672\n",
      "rating_text                            0.171721\n",
      "votes                                  0.000752\n",
      "...                                         ...\n",
      "type_['Pub', 'Wine Bar']               0.110773\n",
      "type_['Pub']                          -0.124576\n",
      "type_['Wine Bar', 'Casual Dining']     0.075102\n",
      "type_['Wine Bar']                      0.019951\n",
      "groupon_True                          -0.064730\n",
      "\n",
      "[7617 rows x 1 columns]\n"
     ]
    }
   ],
   "source": [
    "# Split the data train (80%) and test (20%) sets.\n",
    "X_train, X_test, y_train, y_test = train_test_split(X, y, test_size=0.2, random_state=0)\n",
    "\n",
    "# Build the Linear Regression Model\n",
    "model_regression_1 = LinearRegression()\n",
    "model_regression_1.fit(X_train, y_train)\n",
    "\n",
    "# Make predictions on the test set\n",
    "y_pred = model_regression_1.predict(X_test)\n",
    "\n",
    "# Evaluate the model\n",
    "mse = mean_squared_error(y_test, y_pred)\n",
    "r2 = r2_score(y_test, y_pred)\n",
    "\n",
    "print(f\"Mean Squared Error: {mse:.2f}\")\n",
    "print(f\"R-squared: {r2:.2f}\")\n",
    "\n",
    "# Display coefficients\n",
    "coefficients = pd.DataFrame(model_regression_1.coef_, X.columns, columns=['Coefficient'])\n",
    "print(coefficients)\n"
   ]
  },
  {
   "cell_type": "markdown",
   "id": "8b7a4e27",
   "metadata": {},
   "source": [
    "### Model 2 - Gradient Descent\n"
   ]
  },
  {
   "cell_type": "markdown",
   "id": "d7d8c093",
   "metadata": {},
   "source": [
    "We built the linear regression model (model_regression_2) using SGDRegressor from sklearn.linear_model. This class implements linear regression with stochastic gradient descent. Similar to Model 1, we split the data into 80% train and 20% test sets. \n",
    "\n",
    "While our initial experiments with various learning rates (0.100, 0.010, 0.001, and 0.0001) led to satisfactory results with a learning rate of 0.0001 and a maximum iteration count of 1000, there remains a possibility of underfitting. The model's convergence at such a small learning rate suggests that it may not have fully explored the solution space, potentially limiting its ability to capture complex patterns in the data."
   ]
  },
  {
   "cell_type": "code",
   "execution_count": 79,
   "id": "554ab378",
   "metadata": {},
   "outputs": [
    {
     "name": "stdout",
     "output_type": "stream",
     "text": [
      "\n",
      "Model 2 (Gradient Descent):\n",
      "Mean Squared Error: 0.05033288117242086\n",
      "R-squared: 0.7621679243616336\n"
     ]
    }
   ],
   "source": [
    "import pandas as pd\n",
    "import numpy as np\n",
    "from sklearn.model_selection import train_test_split\n",
    "from sklearn.linear_model import SGDRegressor\n",
    "from sklearn.metrics import mean_squared_error, r2_score\n",
    "\n",
    "# Split the data into training (80%) and test (20%) sets\n",
    "X_train, X_test, y_train, y_test = train_test_split(X, y, test_size=0.2, random_state=0)\n",
    "\n",
    "# Standardize the features\n",
    "scaler = StandardScaler()\n",
    "X_train_scaled = scaler.fit_transform(X_train)\n",
    "X_test_scaled = scaler.transform(X_test)\n",
    "\n",
    "# model_regression_2 = SGDRegressor(loss=\"squared_error\", max_iter=1000, random_state=0)\n",
    "model_regression_2 = SGDRegressor(loss=\"squared_error\", learning_rate='constant', eta0=0.0001, max_iter=1000, random_state=0)\n",
    "\n",
    "model_regression_2.fit(X_train_scaled, y_train)\n",
    "\n",
    "y_pred_model2 = model_regression_2.predict(X_test_scaled)\n",
    "\n",
    "mse_model2 = mean_squared_error(y_test, y_pred_model2)\n",
    "r2_model2 = r2_score(y_test, y_pred_model2)\n",
    "\n",
    "print(f\"\\nModel 2 (Gradient Descent):\")\n",
    "print(f\"Mean Squared Error: {mse_model2}\")\n",
    "print(f\"R-squared: {r2_model2}\")\n"
   ]
  },
  {
   "cell_type": "markdown",
   "id": "ffca6ef2",
   "metadata": {},
   "source": [
    "### Model 1 and Model 2 Comparison\n",
    "\n",
    "The results show that both Model 1 and Model 2 achieved strong performance in predicting the target variable. Model 1, with a Mean Squared Error of 0.04 and an R-squared of 0.79, demonstrated slightly better predictive accuracy compared to Model 2. Model 2 had a Mean Squared Error of 0.05 and an R-squared of 0.76."
   ]
  },
  {
   "cell_type": "markdown",
   "id": "c41ea5a5",
   "metadata": {},
   "source": [
    "### III. Classification"
   ]
  },
  {
   "cell_type": "markdown",
   "id": "9a2ffd65",
   "metadata": {},
   "source": [
    "For the classification task, We simplified the problem into binary classifications where class 1 contains ‘Poor’ and ‘Average’ records while class 2 contains ‘Good’, ‘Very Good’ and ‘Excellent’ records. We then dropped irrelevant columns and idenfied X and y for binary classification.\n",
    "\n",
    "We used a number of classification models such LogisticRegression from Scikit-learn, Gradient Descent Logistic Regression used in Week 3, Decision Tree, Random Forest, and Naive Bayes."
   ]
  },
  {
   "cell_type": "markdown",
   "id": "48c4500e",
   "metadata": {},
   "source": [
    "### LogisticRegression from Scikit-learn"
   ]
  },
  {
   "cell_type": "markdown",
   "id": "d2f7c93c",
   "metadata": {},
   "source": [
    "We applied LogisticRegression from Scikit-learn for model_classification_3, The confusion matrix shows the performance of the model_classification_3. In which the model correctly classified 1285 instances as class 0 and 455 instances as class 1. However, it also misclassified 110 instances as class 1 and 426 instances as class 0. Overall, the model achieved an accuracy of 76.45%, indicating that it made correct predictions for most of the instances."
   ]
  },
  {
   "cell_type": "code",
   "execution_count": 13,
   "id": "bbfc5b48",
   "metadata": {},
   "outputs": [
    {
     "name": "stdout",
     "output_type": "stream",
     "text": [
      "Confusion Matrix:\n",
      " [[1285  110]\n",
      " [ 426  455]]\n",
      "Accuracy: 0.7644991212653779\n"
     ]
    },
    {
     "name": "stderr",
     "output_type": "stream",
     "text": [
      "C:\\Users\\pauar\\anaconda3\\lib\\site-packages\\sklearn\\linear_model\\_logistic.py:814: ConvergenceWarning: lbfgs failed to converge (status=1):\n",
      "STOP: TOTAL NO. of ITERATIONS REACHED LIMIT.\n",
      "\n",
      "Increase the number of iterations (max_iter) or scale the data as shown in:\n",
      "    https://scikit-learn.org/stable/modules/preprocessing.html\n",
      "Please also refer to the documentation for alternative solver options:\n",
      "    https://scikit-learn.org/stable/modules/linear_model.html#logistic-regression\n",
      "  n_iter_i = _check_optimize_result(\n"
     ]
    },
    {
     "data": {
      "image/png": "[encoded data removed]",
      "text/plain": [
       "<Figure size 432x288 with 2 Axes>"
      ]
     },
     "metadata": {
      "needs_background": "light"
     },
     "output_type": "display_data"
    }
   ],
   "source": [
    "import pandas as pd\n",
    "import numpy as np\n",
    "from sklearn.model_selection import train_test_split\n",
    "from sklearn.linear_model import LogisticRegression\n",
    "from sklearn.metrics import confusion_matrix, accuracy_score\n",
    "import seaborn as sns\n",
    "import matplotlib.pyplot as plt\n",
    "\n",
    "# Convert ratings to binary classes\n",
    "df_encoded['rating_text'] = df_encoded['rating_text'].map({\n",
    "    0: 1,  # 'Poor' -> class 1\n",
    "    1: 1,  # 'Average' -> class 1\n",
    "    2: 2,  # 'Good' -> class 2\n",
    "    3: 2,  # 'Very Good' -> class 2\n",
    "    4: 2   # 'Excellent' -> class 2\n",
    "})\n",
    "\n",
    "# Drop irrelevant columns\n",
    "irrelevant_columns = ['address', 'link', 'phone', 'color', 'cuisine_color']\n",
    "df_encoded_cleaned = df_encoded.drop(columns=irrelevant_columns)\n",
    "\n",
    "# Define X and y for the binary classification\n",
    "X = df_encoded_cleaned.drop(columns=['rating_number', 'rating_text']).values  # All columns except rating_number and rating_text\n",
    "y = df_encoded_cleaned['rating_text'].values  # Target variable\n",
    "\n",
    "# Split the data into training (80%) and test (20%) sets\n",
    "X_train, X_test, y_train, y_test = train_test_split(X, y, test_size=0.2, random_state=0)\n",
    "\n",
    "# Initialize logistic regression model\n",
    "model_classification_3 = LogisticRegression()\n",
    "\n",
    "# Fit the model on the training data\n",
    "model_classification_3.fit(X_train, y_train)\n",
    "\n",
    "# Make predictions on the test set\n",
    "y_pred = model_classification_3.predict(X_test)\n",
    "\n",
    "# Evaluate the model\n",
    "cm_model3 = confusion_matrix(y_test, y_pred)\n",
    "accuracy_model3 = accuracy_score(y_test, y_pred)\n",
    "\n",
    "# Print confusion matrix and accuracy\n",
    "print(\"Confusion Matrix:\\n\", cm_model3)\n",
    "print(\"Accuracy:\", accuracy_model3)\n",
    "\n",
    "# Plt confusion matrix \n",
    "plt.figure(figsize=(6,4))\n",
    "sns.heatmap(cm_model3, annot=True, fmt=\"d\", cmap=\"Blues\", xticklabels=[1, 2], yticklabels=[1, 2])\n",
    "plt.title('Confusion Matrix')\n",
    "plt.xlabel('Predicted')\n",
    "plt.ylabel('Actual')\n",
    "plt.show()\n"
   ]
  },
  {
   "cell_type": "markdown",
   "id": "2cae8f18",
   "metadata": {},
   "source": [
    "### Gradient Descent Logistic Regression"
   ]
  },
  {
   "cell_type": "markdown",
   "id": "0e1e1eb6",
   "metadata": {},
   "source": [
    "We applied the Gradient Descent Logistic Regression used in Week 3 for the classification model. The confusion matrix shows that the model correctly classified 15 instances as negative and 881 instances as positive. However, it also made a significant number of errors, incorrectly classifying 1380 instances as positive. The model did not miss any positive instances, but it did misclassify a large number of negative instances as positive, indicating a need for improvement in its ability to distinguish between the two classes."
   ]
  },
  {
   "cell_type": "code",
   "execution_count": 55,
   "id": "05479a4e",
   "metadata": {},
   "outputs": [
    {
     "name": "stderr",
     "output_type": "stream",
     "text": [
      "C:\\Users\\pauar\\AppData\\Local\\Temp\\ipykernel_20608\\700351840.py:39: RuntimeWarning: overflow encountered in exp\n",
      "  output = 1 / (1 + np.exp(-input))\n"
     ]
    },
    {
     "name": "stdout",
     "output_type": "stream",
     "text": [
      "Confusion Matrix:\n",
      "[[  15 1380]\n",
      " [   0  881]]\n"
     ]
    }
   ],
   "source": [
    "import pandas as pd\n",
    "import numpy as np\n",
    "from sklearn.model_selection import train_test_split\n",
    "from sklearn.metrics import confusion_matrix\n",
    "from sklearn.preprocessing import LabelEncoder\n",
    "\n",
    "\n",
    "# Convert ratings to binary classes\n",
    "df_encoded['rating_text'] = df_encoded['rating_text'].map({\n",
    "    0: 1,  # 'Poor' -> class 1\n",
    "    1: 1,  # 'Average' -> class 1\n",
    "    2: 2,  # 'Good' -> class 2\n",
    "    3: 2,  # 'Very Good' -> class 2\n",
    "    4: 2   # 'Excellent' -> class 2\n",
    "})\n",
    "\n",
    "# Drop irrelevant columns\n",
    "irrelevant_columns = ['address', 'link', 'phone', 'color', 'cuisine_color']\n",
    "df_encoded_cleaned = df_encoded.drop(columns=irrelevant_columns)\n",
    "\n",
    "# Define X and y for the binary classification\n",
    "X = df_encoded_cleaned.drop(columns=['rating_number', 'rating_text']).values  # All columns except rating_number and rating_text\n",
    "y = df_encoded_cleaned['rating_text'].values  # Target variable\n",
    "\n",
    "# Split the data into training (80%) and test (20%) sets\n",
    "X_train, X_test, y_train, y_test = train_test_split(X, y, test_size=0.2, random_state=0)\n",
    "\n",
    "# Initialize parameters for logistic regression\n",
    "init_parameters = {\n",
    "    \"weight\": np.zeros(X_train.shape[1]),  # Initialize weights as a NumPy array\n",
    "    \"bias\": 0  # Initialize bias\n",
    "}\n",
    "\n",
    "# Define the sigmoid function\n",
    "def sigmoid(input):    \n",
    "    output = 1 / (1 + np.exp(-input))\n",
    "    return output\n",
    "\n",
    "# Logistic regression optimization function\n",
    "def optimize(x, y, learning_rate, iterations, parameters): \n",
    "    size = x.shape[0]\n",
    "    weight = parameters[\"weight\"] \n",
    "    bias = parameters[\"bias\"]\n",
    "    \n",
    "    for i in range(iterations): \n",
    "        # Compute the linear combination\n",
    "        sigma = sigmoid(np.dot(x, weight) + bias)\n",
    "        # Calculate gradients\n",
    "        dW = 1/size * np.dot(x.T, (sigma - y))\n",
    "        db = 1/size * np.sum(sigma - y)\n",
    "        \n",
    "        # Update parameters\n",
    "        weight -= learning_rate * dW\n",
    "        bias -= learning_rate * db \n",
    "        \n",
    "    parameters[\"weight\"] = weight\n",
    "    parameters[\"bias\"] = bias\n",
    "    return parameters\n",
    "\n",
    "# Function to train logistic regression\n",
    "def train_logistic_regression(x, y, learning_rate, iterations):\n",
    "    parameters_out = optimize(x, y, learning_rate, iterations, init_parameters)\n",
    "    return parameters_out\n",
    "\n",
    "# Train the logistic regression model\n",
    "learning_rate = 0.02\n",
    "iterations = 5000\n",
    "trained_parameters = train_logistic_regression(X_train, y_train, learning_rate, iterations)\n",
    "\n",
    "# predict\n",
    "y_pred = np.dot(X_test, trained_parameters[\"weight\"]) + trained_parameters[\"bias\"]\n",
    "y_pred = sigmoid(y_pred)\n",
    "\n",
    "# Convert predictions to binary classes (1 or 2) \n",
    "y_pred = [2 if p >= 0.5 else 1 for p in y_pred]  \n",
    "\n",
    "# Evaluate the model using confusion matrix\n",
    "cm = confusion_matrix(y_test, y_pred)\n",
    "print(\"Confusion Matrix:\")\n",
    "print(cm)\n"
   ]
  },
  {
   "cell_type": "markdown",
   "id": "1c3b80c4",
   "metadata": {},
   "source": [
    "The confusion matrix shows that the model is very good at correctly identifying negative instances (1.00 accuracy), but it has a relatively high error rate for missing positive instances (0.01). This might indicate that the model is biased towards predicting negative instances."
   ]
  },
  {
   "cell_type": "code",
   "execution_count": 56,
   "id": "19beeaaf",
   "metadata": {},
   "outputs": [
    {
     "data": {
      "text/plain": [
       "<AxesSubplot:>"
      ]
     },
     "execution_count": 56,
     "metadata": {},
     "output_type": "execute_result"
    },
    {
     "data": {
      "image/png": "[encoded data removed]",
      "text/plain": [
       "<Figure size 432x288 with 2 Axes>"
      ]
     },
     "metadata": {
      "needs_background": "light"
     },
     "output_type": "display_data"
    }
   ],
   "source": [
    "# visualize confusion matrix with seaborn heatmap\n",
    "cm_normalised = cm.astype('float32') / cm.sum(axis=1)[:, np.newaxis]\n",
    "\n",
    "cm_matrix = pd.DataFrame(data=cm_normalised, columns=['Actual Positive:1', 'Actual Negative:0'], \n",
    "                                 index=['Predict Positive:1', 'Predict Negative:0'])\n",
    "\n",
    "sns.heatmap(cm_matrix, annot=True, fmt='.2f', cmap='YlGnBu')\n"
   ]
  },
  {
   "cell_type": "markdown",
   "id": "27752a61",
   "metadata": {},
   "source": [
    "### Classification Task using Decision Tree, Random Forest, and Naive Bayes."
   ]
  },
  {
   "cell_type": "markdown",
   "id": "7825d226",
   "metadata": {},
   "source": [
    "Logistic Regression had a moderate number of false positives (426), while Gradient Descent Logistic Regression showed a higher number of false positives (1380). In contrast, Decision Tree and Random Forest models demonstrated superior performance with significantly fewer false positives (95 and 87, respectively). Gaussian Naive Bayes also had a higher number of false positives (539).\n",
    "\n",
    "In terms of false negatives, Logistic Regression had 110, while Gradient Descent Logistic Regression showed no false negatives (0). Both Decision Tree and Random Forest had moderate false negative counts (93 and 120, respectively), whereas Gaussian Naive Bayes had the fewest (23).\n",
    "\n",
    "Overall, Decision Tree and Random Forest performed best in minimizing both false positives and false negatives, with Decision Tree slightly outperforming Random Forest in this regard."
   ]
  },
  {
   "cell_type": "code",
   "execution_count": 83,
   "id": "fc6927fc",
   "metadata": {},
   "outputs": [
    {
     "name": "stdout",
     "output_type": "stream",
     "text": [
      "\n",
      "Model: DecisionTreeClassifier\n",
      "Accuracy: 0.9174\n",
      "Confusion Matrix:\n",
      "[[1300   95]\n",
      " [  93  788]]\n"
     ]
    },
    {
     "data": {
      "image/png": "[encoded data removed]",
      "text/plain": [
       "<Figure size 576x432 with 1 Axes>"
      ]
     },
     "metadata": {
      "needs_background": "light"
     },
     "output_type": "display_data"
    },
    {
     "name": "stdout",
     "output_type": "stream",
     "text": [
      "\n",
      "Model: RandomForestClassifier\n",
      "Accuracy: 0.9091\n",
      "Confusion Matrix:\n",
      "[[1308   87]\n",
      " [ 120  761]]\n"
     ]
    },
    {
     "data": {
      "image/png": "[encoded data removed]",
      "text/plain": [
       "<Figure size 576x432 with 1 Axes>"
      ]
     },
     "metadata": {
      "needs_background": "light"
     },
     "output_type": "display_data"
    },
    {
     "name": "stdout",
     "output_type": "stream",
     "text": [
      "\n",
      "Model: GaussianNB\n",
      "Accuracy: 0.7531\n",
      "Confusion Matrix:\n",
      "[[856 539]\n",
      " [ 23 858]]\n"
     ]
    },
    {
     "data": {
      "image/png": "[encoded data removed]",
      "text/plain": [
       "<Figure size 576x432 with 1 Axes>"
      ]
     },
     "metadata": {
      "needs_background": "light"
     },
     "output_type": "display_data"
    },
    {
     "data": {
      "text/plain": [
       "(0.7530755711775043,\n",
       " array([[856, 539],\n",
       "        [ 23, 858]], dtype=int64))"
      ]
     },
     "execution_count": 83,
     "metadata": {},
     "output_type": "execute_result"
    }
   ],
   "source": [
    "import pandas as pd\n",
    "import numpy as np\n",
    "from sklearn.model_selection import train_test_split\n",
    "from sklearn.metrics import confusion_matrix, accuracy_score\n",
    "from sklearn.preprocessing import LabelEncoder\n",
    "from sklearn.tree import DecisionTreeClassifier\n",
    "from sklearn.ensemble import RandomForestClassifier\n",
    "from sklearn.naive_bayes import GaussianNB\n",
    "\n",
    "# Assuming df_encoded is your DataFrame\n",
    "# Convert ratings to binary classes\n",
    "df_encoded['rating_text'] = df_encoded['rating_text'].map({\n",
    "    0: 1,  # 'Poor' -> class 1\n",
    "    1: 1,  # 'Average' -> class 1\n",
    "    2: 2,  # 'Good' -> class 2\n",
    "    3: 2,  # 'Very Good' -> class 2\n",
    "    4: 2   # 'Excellent' -> class 2\n",
    "})\n",
    "\n",
    "# Drop irrelevant columns\n",
    "irrelevant_columns = ['address', 'link', 'phone', 'color', 'cuisine_color']\n",
    "df_encoded_cleaned = df_encoded.drop(columns=irrelevant_columns)\n",
    "\n",
    "# Define X and y for the binary classification\n",
    "X = df_encoded_cleaned.drop(columns=['rating_number', 'rating_text']).values  # All columns except rating_number and rating_text\n",
    "y = df_encoded_cleaned['rating_text'].values  # Target variable\n",
    "\n",
    "# Split the data into training (80%) and test (20%) sets\n",
    "X_train, X_test, y_train, y_test = train_test_split(X, y, test_size=0.2, random_state=0)\n",
    "\n",
    "# Function to plot confusion matrix\n",
    "def plot_confusion_matrix(cm, model_name):\n",
    "    plt.figure(figsize=(8, 6))\n",
    "    sns.heatmap(cm, annot=True, fmt='d', cmap='Blues', cbar=False)\n",
    "    plt.title(f\"Confusion Matrix for {model_name}\")\n",
    "    plt.xlabel('Predicted')\n",
    "    plt.ylabel('Actual')\n",
    "    plt.show()\n",
    "\n",
    "# Define a function to evaluate models\n",
    "def evaluate_model(model, X_train, X_test, y_train, y_test):\n",
    "    # Fit the model\n",
    "    model.fit(X_train, y_train)\n",
    "    \n",
    "    # Make predictions\n",
    "    y_pred = model.predict(X_test)\n",
    "    \n",
    "    # Calculate accuracy\n",
    "    accuracy = accuracy_score(y_test, y_pred)\n",
    "    \n",
    "    # Confusion matrix\n",
    "    cm = confusion_matrix(y_test, y_pred)\n",
    "    \n",
    "    print(f\"\\nModel: {model.__class__.__name__}\")\n",
    "    print(f\"Accuracy: {accuracy:.4f}\")\n",
    "    print(\"Confusion Matrix:\")\n",
    "    print(cm)\n",
    "    \n",
    "    # Plot confusion matrix\n",
    "    plot_confusion_matrix(cm, model.__class__.__name__)\n",
    "    \n",
    "    return accuracy, cm\n",
    "\n",
    "# Decision Tree Classifier\n",
    "decision_tree = DecisionTreeClassifier(random_state=0)\n",
    "evaluate_model(decision_tree, X_train, X_test, y_train, y_test)\n",
    "\n",
    "# Random Forest Classifier\n",
    "random_forest = RandomForestClassifier(random_state=0, n_estimators=100)\n",
    "evaluate_model(random_forest, X_train, X_test, y_train, y_test)\n",
    "\n",
    "# Naive Bayes (GaussianNB)\n",
    "naive_bayes = GaussianNB()\n",
    "evaluate_model(naive_bayes, X_train, X_test, y_train, y_test)\n"
   ]
  },
  {
   "cell_type": "markdown",
   "id": "5f22b18b",
   "metadata": {},
   "source": [
    "### Conclusion\n",
    "\n",
    "This part of this assignment we compared the performance of two linear regression models and four classification models.\n",
    "\n",
    "For the linear regression task, both Model 1 and Model 2 achieved strong predictive accuracy, with Model 1 demonstrating slightly better performance based on the Mean Squared Error and R-squared metrics.\n",
    "\n",
    "For the classification task, Decision Tree and Random Forest classifiers emerged as the top-performing models. They exhibited minimal number of false positives compared to Logistic Regression, Gradient Descent Logistic Regression, and Gaussian Naive Bayes. While Gaussian Naive Bayes had the fewest false negatives, its overall accuracy was lower due to a higher number of false positives."
   ]
  },
  {
   "cell_type": "code",
   "execution_count": null,
   "id": "6c25e426",
   "metadata": {},
   "outputs": [],
   "source": []
  }
 ],
 "metadata": {
  "kernelspec": {
   "display_name": "Python 3 (ipykernel)",
   "language": "python",
   "name": "python3"
  },
  "language_info": {
   "codemirror_mode": {
    "name": "ipython",
    "version": 3
   },
   "file_extension": ".py",
   "mimetype": "text/x-python",
   "name": "python",
   "nbconvert_exporter": "python",
   "pygments_lexer": "ipython3",
   "version": "3.9.12"
  }
 },
 "nbformat": 4,
 "nbformat_minor": 5
}
